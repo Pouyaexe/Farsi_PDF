{
  "nbformat": 4,
  "nbformat_minor": 0,
  "metadata": {
    "colab": {
      "name": "PDF_OCR.ipynb",
      "provenance": [],
      "include_colab_link": true
    },
    "kernelspec": {
      "name": "python3",
      "display_name": "Python 3"
    },
    "language_info": {
      "name": "python"
    }
  },
  "cells": [
    {
      "cell_type": "markdown",
      "metadata": {
        "id": "view-in-github",
        "colab_type": "text"
      },
      "source": [
        "<a href=\"https://colab.research.google.com/github/Pouyaexe/Farsi_PDF/blob/main/PDF_OCR.ipynb\" target=\"_parent\"><img src=\"https://colab.research.google.com/assets/colab-badge.svg\" alt=\"Open In Colab\"/></a>"
      ]
    },
    {
      "cell_type": "markdown",
      "metadata": {
        "id": "ClOQuULUQSy3"
      },
      "source": [
        "# Convert PDF to OCR Searchable PDF !"
      ]
    },
    {
      "cell_type": "markdown",
      "metadata": {
        "id": "8m9DpYPjgpv-"
      },
      "source": [
        "You can reduce the lib imports section (but don't forget to run it)."
      ]
    },
    {
      "cell_type": "markdown",
      "metadata": {
        "id": "nr0tFRNcQX0p"
      },
      "source": [
        "## Lib imports"
      ]
    },
    {
      "cell_type": "markdown",
      "metadata": {
        "id": "TkyND3wwdX3x"
      },
      "source": [
        "Main OCR Lib can be found here : https://github.com/jbarlow83/OCRmyPDF \n",
        "Everything else is a compulsory dependency."
      ]
    },
    {
      "cell_type": "code",
      "source": [
        "!apt-get install tesseract-ocr-fas"
      ],
      "metadata": {
        "id": "r_Ayksej4XFL",
        "outputId": "6b5e2355-427d-4766-eaab-e1d38434fbb0",
        "colab": {
          "base_uri": "https://localhost:8080/"
        }
      },
      "execution_count": 11,
      "outputs": [
        {
          "output_type": "stream",
          "name": "stdout",
          "text": [
            "Reading package lists... Done\n",
            "Building dependency tree       \n",
            "Reading state information... Done\n",
            "The following package was automatically installed and is no longer required:\n",
            "  libnvidia-common-460\n",
            "Use 'apt autoremove' to remove it.\n",
            "The following NEW packages will be installed:\n",
            "  tesseract-ocr-fas\n",
            "0 upgraded, 1 newly installed, 0 to remove and 20 not upgraded.\n",
            "Need to get 301 kB of archives.\n",
            "After this operation, 446 kB of additional disk space will be used.\n",
            "Get:1 http://archive.ubuntu.com/ubuntu bionic/universe amd64 tesseract-ocr-fas all 4.00~git24-0e00fe6-1.2 [301 kB]\n",
            "Fetched 301 kB in 1s (283 kB/s)\n",
            "Selecting previously unselected package tesseract-ocr-fas.\n",
            "(Reading database ... 156898 files and directories currently installed.)\n",
            "Preparing to unpack .../tesseract-ocr-fas_4.00~git24-0e00fe6-1.2_all.deb ...\n",
            "Unpacking tesseract-ocr-fas (4.00~git24-0e00fe6-1.2) ...\n",
            "Setting up tesseract-ocr-fas (4.00~git24-0e00fe6-1.2) ...\n"
          ]
        }
      ]
    },
    {
      "cell_type": "code",
      "metadata": {
        "colab": {
          "base_uri": "https://localhost:8080/"
        },
        "id": "sBl8EFSDPFR0",
        "outputId": "d7e8edbc-c5ea-466c-d0f9-91f01c8a58bc"
      },
      "source": [
        "! apt install tesseract-ocr\n",
        "! apt install libtesseract-dev"
      ],
      "execution_count": 1,
      "outputs": [
        {
          "output_type": "stream",
          "name": "stdout",
          "text": [
            "Reading package lists... Done\n",
            "Building dependency tree       \n",
            "Reading state information... Done\n",
            "The following package was automatically installed and is no longer required:\n",
            "  libnvidia-common-460\n",
            "Use 'apt autoremove' to remove it.\n",
            "The following additional packages will be installed:\n",
            "  tesseract-ocr-eng tesseract-ocr-osd\n",
            "The following NEW packages will be installed:\n",
            "  tesseract-ocr tesseract-ocr-eng tesseract-ocr-osd\n",
            "0 upgraded, 3 newly installed, 0 to remove and 20 not upgraded.\n",
            "Need to get 4,795 kB of archives.\n",
            "After this operation, 15.8 MB of additional disk space will be used.\n",
            "Get:1 http://archive.ubuntu.com/ubuntu bionic/universe amd64 tesseract-ocr-eng all 4.00~git24-0e00fe6-1.2 [1,588 kB]\n",
            "Get:2 http://archive.ubuntu.com/ubuntu bionic/universe amd64 tesseract-ocr-osd all 4.00~git24-0e00fe6-1.2 [2,989 kB]\n",
            "Get:3 http://archive.ubuntu.com/ubuntu bionic/universe amd64 tesseract-ocr amd64 4.00~git2288-10f4998a-2 [218 kB]\n",
            "Fetched 4,795 kB in 2s (2,734 kB/s)\n",
            "Selecting previously unselected package tesseract-ocr-eng.\n",
            "(Reading database ... 155676 files and directories currently installed.)\n",
            "Preparing to unpack .../tesseract-ocr-eng_4.00~git24-0e00fe6-1.2_all.deb ...\n",
            "Unpacking tesseract-ocr-eng (4.00~git24-0e00fe6-1.2) ...\n",
            "Selecting previously unselected package tesseract-ocr-osd.\n",
            "Preparing to unpack .../tesseract-ocr-osd_4.00~git24-0e00fe6-1.2_all.deb ...\n",
            "Unpacking tesseract-ocr-osd (4.00~git24-0e00fe6-1.2) ...\n",
            "Selecting previously unselected package tesseract-ocr.\n",
            "Preparing to unpack .../tesseract-ocr_4.00~git2288-10f4998a-2_amd64.deb ...\n",
            "Unpacking tesseract-ocr (4.00~git2288-10f4998a-2) ...\n",
            "Setting up tesseract-ocr-osd (4.00~git24-0e00fe6-1.2) ...\n",
            "Setting up tesseract-ocr-eng (4.00~git24-0e00fe6-1.2) ...\n",
            "Setting up tesseract-ocr (4.00~git2288-10f4998a-2) ...\n",
            "Processing triggers for man-db (2.8.3-2ubuntu0.1) ...\n",
            "Reading package lists... Done\n",
            "Building dependency tree       \n",
            "Reading state information... Done\n",
            "The following package was automatically installed and is no longer required:\n",
            "  libnvidia-common-460\n",
            "Use 'apt autoremove' to remove it.\n",
            "The following additional packages will be installed:\n",
            "  libleptonica-dev\n",
            "The following NEW packages will be installed:\n",
            "  libleptonica-dev libtesseract-dev\n",
            "0 upgraded, 2 newly installed, 0 to remove and 20 not upgraded.\n",
            "Need to get 2,755 kB of archives.\n",
            "After this operation, 13.8 MB of additional disk space will be used.\n",
            "Get:1 http://archive.ubuntu.com/ubuntu bionic/universe amd64 libleptonica-dev amd64 1.75.3-3 [1,308 kB]\n",
            "Get:2 http://archive.ubuntu.com/ubuntu bionic/universe amd64 libtesseract-dev amd64 4.00~git2288-10f4998a-2 [1,447 kB]\n",
            "Fetched 2,755 kB in 2s (1,694 kB/s)\n",
            "Selecting previously unselected package libleptonica-dev.\n",
            "(Reading database ... 155723 files and directories currently installed.)\n",
            "Preparing to unpack .../libleptonica-dev_1.75.3-3_amd64.deb ...\n",
            "Unpacking libleptonica-dev (1.75.3-3) ...\n",
            "Selecting previously unselected package libtesseract-dev.\n",
            "Preparing to unpack .../libtesseract-dev_4.00~git2288-10f4998a-2_amd64.deb ...\n",
            "Unpacking libtesseract-dev (4.00~git2288-10f4998a-2) ...\n",
            "Setting up libleptonica-dev (1.75.3-3) ...\n",
            "Setting up libtesseract-dev (4.00~git2288-10f4998a-2) ...\n"
          ]
        }
      ]
    },
    {
      "cell_type": "code",
      "metadata": {
        "colab": {
          "base_uri": "https://localhost:8080/",
          "height": 375
        },
        "id": "RWdJNvEfOpWb",
        "outputId": "9eb5e024-a24b-4cac-f73c-645ed866fc1f"
      },
      "source": [
        "!pip install pytesseract"
      ],
      "execution_count": 2,
      "outputs": [
        {
          "output_type": "stream",
          "name": "stdout",
          "text": [
            "Looking in indexes: https://pypi.org/simple, https://us-python.pkg.dev/colab-wheels/public/simple/\n",
            "Collecting pytesseract\n",
            "  Downloading pytesseract-0.3.10-py3-none-any.whl (14 kB)\n",
            "Collecting Pillow>=8.0.0\n",
            "  Downloading Pillow-9.2.0-cp37-cp37m-manylinux_2_17_x86_64.manylinux2014_x86_64.whl (3.1 MB)\n",
            "\u001b[K     |████████████████████████████████| 3.1 MB 8.7 MB/s \n",
            "\u001b[?25hRequirement already satisfied: packaging>=21.3 in /usr/local/lib/python3.7/dist-packages (from pytesseract) (21.3)\n",
            "Requirement already satisfied: pyparsing!=3.0.5,>=2.0.2 in /usr/local/lib/python3.7/dist-packages (from packaging>=21.3->pytesseract) (3.0.9)\n",
            "Installing collected packages: Pillow, pytesseract\n",
            "  Attempting uninstall: Pillow\n",
            "    Found existing installation: Pillow 7.1.2\n",
            "    Uninstalling Pillow-7.1.2:\n",
            "      Successfully uninstalled Pillow-7.1.2\n",
            "Successfully installed Pillow-9.2.0 pytesseract-0.3.10\n"
          ]
        },
        {
          "output_type": "display_data",
          "data": {
            "application/vnd.colab-display-data+json": {
              "pip_warning": {
                "packages": [
                  "PIL"
                ]
              }
            }
          },
          "metadata": {}
        }
      ]
    },
    {
      "cell_type": "code",
      "metadata": {
        "colab": {
          "base_uri": "https://localhost:8080/"
        },
        "id": "paGWcxHCRSDE",
        "outputId": "dd53d91f-13b9-4063-cd35-aa09d8d20d6c"
      },
      "source": [
        "!apt install ghostscript"
      ],
      "execution_count": 3,
      "outputs": [
        {
          "output_type": "stream",
          "name": "stdout",
          "text": [
            "Reading package lists... Done\n",
            "Building dependency tree       \n",
            "Reading state information... Done\n",
            "The following package was automatically installed and is no longer required:\n",
            "  libnvidia-common-460\n",
            "Use 'apt autoremove' to remove it.\n",
            "The following additional packages will be installed:\n",
            "  fonts-droid-fallback fonts-noto-mono gsfonts libcupsfilters1 libcupsimage2\n",
            "  libgs9 libgs9-common libijs-0.35 libjbig2dec0 poppler-data\n",
            "Suggested packages:\n",
            "  fonts-noto ghostscript-x poppler-utils fonts-japanese-mincho\n",
            "  | fonts-ipafont-mincho fonts-japanese-gothic | fonts-ipafont-gothic\n",
            "  fonts-arphic-ukai fonts-arphic-uming fonts-nanum\n",
            "The following NEW packages will be installed:\n",
            "  fonts-droid-fallback fonts-noto-mono ghostscript gsfonts libcupsfilters1\n",
            "  libcupsimage2 libgs9 libgs9-common libijs-0.35 libjbig2dec0 poppler-data\n",
            "0 upgraded, 11 newly installed, 0 to remove and 20 not upgraded.\n",
            "Need to get 14.1 MB of archives.\n",
            "After this operation, 49.9 MB of additional disk space will be used.\n",
            "Get:1 http://archive.ubuntu.com/ubuntu bionic/main amd64 fonts-droid-fallback all 1:6.0.1r16-1.1 [1,805 kB]\n",
            "Get:2 http://archive.ubuntu.com/ubuntu bionic/main amd64 poppler-data all 0.4.8-2 [1,479 kB]\n",
            "Get:3 http://archive.ubuntu.com/ubuntu bionic/main amd64 fonts-noto-mono all 20171026-2 [75.5 kB]\n",
            "Get:4 http://archive.ubuntu.com/ubuntu bionic-updates/main amd64 libcupsimage2 amd64 2.2.7-1ubuntu2.9 [18.6 kB]\n",
            "Get:5 http://archive.ubuntu.com/ubuntu bionic/main amd64 libijs-0.35 amd64 0.35-13 [15.5 kB]\n",
            "Get:6 http://archive.ubuntu.com/ubuntu bionic/main amd64 libjbig2dec0 amd64 0.13-6 [55.9 kB]\n",
            "Get:7 http://archive.ubuntu.com/ubuntu bionic-updates/main amd64 libgs9-common all 9.26~dfsg+0-0ubuntu0.18.04.16 [5,093 kB]\n",
            "Get:8 http://archive.ubuntu.com/ubuntu bionic-updates/main amd64 libgs9 amd64 9.26~dfsg+0-0ubuntu0.18.04.16 [2,265 kB]\n",
            "Get:9 http://archive.ubuntu.com/ubuntu bionic-updates/main amd64 ghostscript amd64 9.26~dfsg+0-0ubuntu0.18.04.16 [51.3 kB]\n",
            "Get:10 http://archive.ubuntu.com/ubuntu bionic/main amd64 gsfonts all 1:8.11+urwcyr1.0.7~pre44-4.4 [3,120 kB]\n",
            "Get:11 http://archive.ubuntu.com/ubuntu bionic-updates/main amd64 libcupsfilters1 amd64 1.20.2-0ubuntu3.1 [108 kB]\n",
            "Fetched 14.1 MB in 2s (6,943 kB/s)\n",
            "Selecting previously unselected package fonts-droid-fallback.\n",
            "(Reading database ... 155834 files and directories currently installed.)\n",
            "Preparing to unpack .../00-fonts-droid-fallback_1%3a6.0.1r16-1.1_all.deb ...\n",
            "Unpacking fonts-droid-fallback (1:6.0.1r16-1.1) ...\n",
            "Selecting previously unselected package poppler-data.\n",
            "Preparing to unpack .../01-poppler-data_0.4.8-2_all.deb ...\n",
            "Unpacking poppler-data (0.4.8-2) ...\n",
            "Selecting previously unselected package fonts-noto-mono.\n",
            "Preparing to unpack .../02-fonts-noto-mono_20171026-2_all.deb ...\n",
            "Unpacking fonts-noto-mono (20171026-2) ...\n",
            "Selecting previously unselected package libcupsimage2:amd64.\n",
            "Preparing to unpack .../03-libcupsimage2_2.2.7-1ubuntu2.9_amd64.deb ...\n",
            "Unpacking libcupsimage2:amd64 (2.2.7-1ubuntu2.9) ...\n",
            "Selecting previously unselected package libijs-0.35:amd64.\n",
            "Preparing to unpack .../04-libijs-0.35_0.35-13_amd64.deb ...\n",
            "Unpacking libijs-0.35:amd64 (0.35-13) ...\n",
            "Selecting previously unselected package libjbig2dec0:amd64.\n",
            "Preparing to unpack .../05-libjbig2dec0_0.13-6_amd64.deb ...\n",
            "Unpacking libjbig2dec0:amd64 (0.13-6) ...\n",
            "Selecting previously unselected package libgs9-common.\n",
            "Preparing to unpack .../06-libgs9-common_9.26~dfsg+0-0ubuntu0.18.04.16_all.deb ...\n",
            "Unpacking libgs9-common (9.26~dfsg+0-0ubuntu0.18.04.16) ...\n",
            "Selecting previously unselected package libgs9:amd64.\n",
            "Preparing to unpack .../07-libgs9_9.26~dfsg+0-0ubuntu0.18.04.16_amd64.deb ...\n",
            "Unpacking libgs9:amd64 (9.26~dfsg+0-0ubuntu0.18.04.16) ...\n",
            "Selecting previously unselected package ghostscript.\n",
            "Preparing to unpack .../08-ghostscript_9.26~dfsg+0-0ubuntu0.18.04.16_amd64.deb ...\n",
            "Unpacking ghostscript (9.26~dfsg+0-0ubuntu0.18.04.16) ...\n",
            "Selecting previously unselected package gsfonts.\n",
            "Preparing to unpack .../09-gsfonts_1%3a8.11+urwcyr1.0.7~pre44-4.4_all.deb ...\n",
            "Unpacking gsfonts (1:8.11+urwcyr1.0.7~pre44-4.4) ...\n",
            "Selecting previously unselected package libcupsfilters1:amd64.\n",
            "Preparing to unpack .../10-libcupsfilters1_1.20.2-0ubuntu3.1_amd64.deb ...\n",
            "Unpacking libcupsfilters1:amd64 (1.20.2-0ubuntu3.1) ...\n",
            "Setting up libgs9-common (9.26~dfsg+0-0ubuntu0.18.04.16) ...\n",
            "Setting up fonts-droid-fallback (1:6.0.1r16-1.1) ...\n",
            "Setting up gsfonts (1:8.11+urwcyr1.0.7~pre44-4.4) ...\n",
            "Setting up poppler-data (0.4.8-2) ...\n",
            "Setting up fonts-noto-mono (20171026-2) ...\n",
            "Setting up libcupsfilters1:amd64 (1.20.2-0ubuntu3.1) ...\n",
            "Setting up libcupsimage2:amd64 (2.2.7-1ubuntu2.9) ...\n",
            "Setting up libjbig2dec0:amd64 (0.13-6) ...\n",
            "Setting up libijs-0.35:amd64 (0.35-13) ...\n",
            "Setting up libgs9:amd64 (9.26~dfsg+0-0ubuntu0.18.04.16) ...\n",
            "Setting up ghostscript (9.26~dfsg+0-0ubuntu0.18.04.16) ...\n",
            "Processing triggers for man-db (2.8.3-2ubuntu0.1) ...\n",
            "Processing triggers for fontconfig (2.12.6-0ubuntu2) ...\n",
            "Processing triggers for libc-bin (2.27-3ubuntu1.5) ...\n"
          ]
        }
      ]
    },
    {
      "cell_type": "code",
      "metadata": {
        "colab": {
          "base_uri": "https://localhost:8080/"
        },
        "id": "-r5OBayiN0AJ",
        "outputId": "3c064544-22a2-4de8-831a-2ba966d6ce28"
      },
      "source": [
        "!pip install ocrmypdf"
      ],
      "execution_count": 4,
      "outputs": [
        {
          "output_type": "stream",
          "name": "stdout",
          "text": [
            "Looking in indexes: https://pypi.org/simple, https://us-python.pkg.dev/colab-wheels/public/simple/\n",
            "Collecting ocrmypdf\n",
            "  Downloading ocrmypdf-13.7.0-py37-none-any.whl (123 kB)\n",
            "\u001b[K     |████████████████████████████████| 123 kB 7.5 MB/s \n",
            "\u001b[?25hRequirement already satisfied: typing-extensions>=4 in /usr/local/lib/python3.7/dist-packages (from ocrmypdf) (4.1.1)\n",
            "Collecting pikepdf!=5.0.0,>=4.0.0\n",
            "  Downloading pikepdf-5.6.0-cp37-cp37m-manylinux_2_17_x86_64.manylinux2014_x86_64.whl (2.4 MB)\n",
            "\u001b[K     |████████████████████████████████| 2.4 MB 24.8 MB/s \n",
            "\u001b[?25hRequirement already satisfied: importlib-resources>=5 in /usr/local/lib/python3.7/dist-packages (from ocrmypdf) (5.9.0)\n",
            "Requirement already satisfied: packaging>=20 in /usr/local/lib/python3.7/dist-packages (from ocrmypdf) (21.3)\n",
            "Requirement already satisfied: importlib-metadata>=4 in /usr/local/lib/python3.7/dist-packages (from ocrmypdf) (4.12.0)\n",
            "Collecting reportlab>=3.5.66\n",
            "  Downloading reportlab-3.6.11-cp37-cp37m-manylinux_2_17_x86_64.manylinux2014_x86_64.whl (2.8 MB)\n",
            "\u001b[K     |████████████████████████████████| 2.8 MB 47.5 MB/s \n",
            "\u001b[?25hRequirement already satisfied: Pillow>=8.2.0 in /usr/local/lib/python3.7/dist-packages (from ocrmypdf) (9.2.0)\n",
            "Collecting pluggy>=0.13.0\n",
            "  Downloading pluggy-1.0.0-py2.py3-none-any.whl (13 kB)\n",
            "Requirement already satisfied: tqdm>=4 in /usr/local/lib/python3.7/dist-packages (from ocrmypdf) (4.64.0)\n",
            "Collecting pdfminer.six!=20200720,>=20191110\n",
            "  Downloading pdfminer.six-20220524-py3-none-any.whl (5.6 MB)\n",
            "\u001b[K     |████████████████████████████████| 5.6 MB 46.2 MB/s \n",
            "\u001b[?25hCollecting img2pdf>=0.3.0\n",
            "  Downloading img2pdf-0.4.4.tar.gz (97 kB)\n",
            "\u001b[K     |████████████████████████████████| 97 kB 4.8 MB/s \n",
            "\u001b[?25hCollecting coloredlogs>=14.0\n",
            "  Downloading coloredlogs-15.0.1-py2.py3-none-any.whl (46 kB)\n",
            "\u001b[K     |████████████████████████████████| 46 kB 4.3 MB/s \n",
            "\u001b[?25hCollecting humanfriendly>=9.1\n",
            "  Downloading humanfriendly-10.0-py2.py3-none-any.whl (86 kB)\n",
            "\u001b[K     |████████████████████████████████| 86 kB 5.6 MB/s \n",
            "\u001b[?25hRequirement already satisfied: zipp>=0.5 in /usr/local/lib/python3.7/dist-packages (from importlib-metadata>=4->ocrmypdf) (3.8.1)\n",
            "Requirement already satisfied: pyparsing!=3.0.5,>=2.0.2 in /usr/local/lib/python3.7/dist-packages (from packaging>=20->ocrmypdf) (3.0.9)\n",
            "Collecting cryptography>=36.0.0\n",
            "  Downloading cryptography-37.0.4-cp36-abi3-manylinux_2_24_x86_64.whl (4.1 MB)\n",
            "\u001b[K     |████████████████████████████████| 4.1 MB 41.1 MB/s \n",
            "\u001b[?25hRequirement already satisfied: charset-normalizer>=2.0.0 in /usr/local/lib/python3.7/dist-packages (from pdfminer.six!=20200720,>=20191110->ocrmypdf) (2.1.1)\n",
            "Requirement already satisfied: cffi>=1.12 in /usr/local/lib/python3.7/dist-packages (from cryptography>=36.0.0->pdfminer.six!=20200720,>=20191110->ocrmypdf) (1.15.1)\n",
            "Requirement already satisfied: pycparser in /usr/local/lib/python3.7/dist-packages (from cffi>=1.12->cryptography>=36.0.0->pdfminer.six!=20200720,>=20191110->ocrmypdf) (2.21)\n",
            "Requirement already satisfied: lxml>=4.0 in /usr/local/lib/python3.7/dist-packages (from pikepdf!=5.0.0,>=4.0.0->ocrmypdf) (4.9.1)\n",
            "Collecting deprecation\n",
            "  Downloading deprecation-2.1.0-py2.py3-none-any.whl (11 kB)\n",
            "Building wheels for collected packages: img2pdf\n",
            "  Building wheel for img2pdf (setup.py) ... \u001b[?25l\u001b[?25hdone\n",
            "  Created wheel for img2pdf: filename=img2pdf-0.4.4-py3-none-any.whl size=44881 sha256=14c9387112a5381296bdcbbdb52b3a6e506a1b80bfd1b812cabb876ba369b161\n",
            "  Stored in directory: /root/.cache/pip/wheels/d2/a7/53/9983aef9861f91881984e08f376e3119bdfeeecf55bd36e585\n",
            "Successfully built img2pdf\n",
            "Installing collected packages: deprecation, pikepdf, humanfriendly, cryptography, reportlab, pluggy, pdfminer.six, img2pdf, coloredlogs, ocrmypdf\n",
            "  Attempting uninstall: pluggy\n",
            "    Found existing installation: pluggy 0.7.1\n",
            "    Uninstalling pluggy-0.7.1:\n",
            "      Successfully uninstalled pluggy-0.7.1\n",
            "\u001b[31mERROR: pip's dependency resolver does not currently take into account all the packages that are installed. This behaviour is the source of the following dependency conflicts.\n",
            "pytest 3.6.4 requires pluggy<0.8,>=0.5, but you have pluggy 1.0.0 which is incompatible.\u001b[0m\n",
            "Successfully installed coloredlogs-15.0.1 cryptography-37.0.4 deprecation-2.1.0 humanfriendly-10.0 img2pdf-0.4.4 ocrmypdf-13.7.0 pdfminer.six-20220524 pikepdf-5.6.0 pluggy-1.0.0 reportlab-3.6.11\n"
          ]
        }
      ]
    },
    {
      "cell_type": "code",
      "metadata": {
        "colab": {
          "base_uri": "https://localhost:8080/"
        },
        "id": "HYDNbBrEN_GZ",
        "outputId": "8881267b-8128-4051-dd77-a66ba45a8986"
      },
      "source": [
        "!ocrmypdf --help"
      ],
      "execution_count": null,
      "outputs": [
        {
          "output_type": "stream",
          "text": [
            "usage: ocrmypdf [-h] [-l LANGUAGES] [--image-dpi DPI]\n",
            "                [--output-type {pdfa,pdf,pdfa-1,pdfa-2,pdfa-3}]\n",
            "                [--sidecar [FILE]] [--version] [-j N] [-q] [-v [VERBOSE]]\n",
            "                [--title TITLE] [--author AUTHOR] [--subject SUBJECT]\n",
            "                [--keywords KEYWORDS] [-r] [--remove-background] [-d] [-c]\n",
            "                [-i] [--unpaper-args UNPAPER_ARGS] [--oversample DPI]\n",
            "                [--remove-vectors] [--threshold] [-f] [-s] [--redo-ocr]\n",
            "                [--skip-big MPixels] [-O {0,1,2,3}] [--jpeg-quality Q]\n",
            "                [--png-quality Q] [--jbig2-lossy] [--pages PAGES]\n",
            "                [--max-image-mpixels MPixels]\n",
            "                [--pdf-renderer {auto,hocr,sandwich,hocrdebug}]\n",
            "                [--rotate-pages-threshold CONFIDENCE]\n",
            "                [--pdfa-image-compression {auto,jpeg,lossless}]\n",
            "                [--fast-web-view MEGABYTES] [--plugin PLUGINS] [-k]\n",
            "                [--tesseract-config CFG] [--tesseract-pagesegmode PSM]\n",
            "                [--tesseract-oem MODE] [--tesseract-timeout SECONDS]\n",
            "                [--user-words FILE] [--user-patterns FILE]\n",
            "                input_pdf_or_image output_pdf\n",
            "\n",
            "Generates a searchable PDF or PDF/A from a regular PDF.\n",
            "\n",
            "OCRmyPDF rasterizes each page of the input PDF, optionally corrects page\n",
            "rotation and performs image processing, runs the Tesseract OCR engine on the\n",
            "image, and then creates a PDF from the OCR information.\n",
            "\n",
            "positional arguments:\n",
            "  input_pdf_or_image    PDF file containing the images to be OCRed (or '-' to\n",
            "                        read from standard input)\n",
            "  output_pdf            Output searchable PDF file (or '-' to write to\n",
            "                        standard output). Existing files will be ovewritten.\n",
            "                        If same as input file, the input file will be updated\n",
            "                        only if processing is successful.\n",
            "\n",
            "optional arguments:\n",
            "  -h, --help            show this help message and exit\n",
            "  -l LANGUAGES, --language LANGUAGES\n",
            "                        Language(s) of the file to be OCRed (see tesseract\n",
            "                        --list-langs for all language packs installed in your\n",
            "                        system). Use -l eng+deu for multiple languages.\n",
            "  --image-dpi DPI       For input image instead of PDF, use this DPI instead\n",
            "                        of file's.\n",
            "  --output-type {pdfa,pdf,pdfa-1,pdfa-2,pdfa-3}\n",
            "                        Choose output type. 'pdfa' creates a PDF/A-2b\n",
            "                        compliant file for long term archiving (default,\n",
            "                        recommended) but may not suitable for users who want\n",
            "                        their file altered as little as possible. 'pdfa' also\n",
            "                        has problems with full Unicode text. 'pdf' attempts to\n",
            "                        preserve file contents as much as possible. 'pdf-a1'\n",
            "                        creates a PDF/A1-b file. 'pdf-a2' is equivalent to\n",
            "                        'pdfa'. 'pdf-a3' creates a PDF/A3-b file.\n",
            "  --sidecar [FILE]      Generate sidecar text files that contain the same text\n",
            "                        recognized by Tesseract. This may be useful for\n",
            "                        building a OCR text database. If FILE is omitted, the\n",
            "                        sidecar file be named {output_file}.txt; the next\n",
            "                        argument must NOT be the name of the input PDF. If\n",
            "                        FILE is set to '-', the sidecar is written to stdout\n",
            "                        (a convenient way to preview OCR quality). The output\n",
            "                        file and sidecar may not both use stdout at the same\n",
            "                        time.\n",
            "  --version             Print program version and exit\n",
            "\n",
            "Job control options:\n",
            "  -j N, --jobs N        Use up to N CPU cores simultaneously (default: use\n",
            "                        all).\n",
            "  -q, --quiet           Suppress INFO messages\n",
            "  -v [VERBOSE], --verbose [VERBOSE]\n",
            "                        Print more verbose messages for each additional\n",
            "                        verbose level. Use `-v 1` typically for much more\n",
            "                        detailed logging. Higher numbers are probably only\n",
            "                        useful in debugging.\n",
            "\n",
            "Metadata options:\n",
            "  Set output PDF/A metadata (default: copy input document's metadata)\n",
            "\n",
            "  --title TITLE         Set document title (place multiple words in quotes)\n",
            "  --author AUTHOR       Set document author\n",
            "  --subject SUBJECT     Set document subject description\n",
            "  --keywords KEYWORDS   Set document keywords\n",
            "\n",
            "Image preprocessing options:\n",
            "  Options to improve the quality of the final PDF and OCR\n",
            "\n",
            "  -r, --rotate-pages    Automatically rotate pages based on detected text\n",
            "                        orientation\n",
            "  --remove-background   Attempt to remove background from gray or color pages,\n",
            "                        setting it to white\n",
            "  -d, --deskew          Deskew each page before performing OCR\n",
            "  -c, --clean           Clean pages from scanning artifacts before performing\n",
            "                        OCR, and send the cleaned page to OCR, but do not\n",
            "                        include the cleaned page in the output\n",
            "  -i, --clean-final     Clean page as above, and incorporate the cleaned image\n",
            "                        in the final PDF. Might remove desired content.\n",
            "  --unpaper-args UNPAPER_ARGS\n",
            "                        A quoted string of arguments to pass to unpaper.\n",
            "                        Requires --clean. Example: --unpaper-args '--layout\n",
            "                        double'.\n",
            "  --oversample DPI      Oversample images to at least the specified DPI, to\n",
            "                        improve OCR results slightly\n",
            "  --remove-vectors      EXPERIMENTAL. Mask out any vector objects in the PDF\n",
            "                        so that they will not be included in OCR. This can\n",
            "                        eliminate false characters.\n",
            "  --threshold           EXPERIMENTAL. Threshold image to 1bpp before sending\n",
            "                        it to Tesseract for OCR. Can improve OCR quality\n",
            "                        compared to Tesseract's thresholder.\n",
            "\n",
            "OCR options:\n",
            "  Control how OCR is applied\n",
            "\n",
            "  -f, --force-ocr       Rasterize any text or vector objects on each page,\n",
            "                        apply OCR, and save the rastered output (this rewrites\n",
            "                        the PDF)\n",
            "  -s, --skip-text       Skip OCR on any pages that already contain text, but\n",
            "                        include the page in final output; useful for PDFs that\n",
            "                        contain a mix of images, text pages, and/or previously\n",
            "                        OCRed pages\n",
            "  --redo-ocr            Attempt to detect and remove the hidden OCR layer from\n",
            "                        files that were previously OCRed with OCRmyPDF or\n",
            "                        another program. Apply OCR to text found in raster\n",
            "                        images. Existing visible text objects will not be\n",
            "                        changed. If there is no existing OCR, OCR will be\n",
            "                        added.\n",
            "  --skip-big MPixels    Skip OCR on pages larger than the specified amount of\n",
            "                        megapixels, but include skipped pages in final output\n",
            "\n",
            "Optimization options:\n",
            "  Control how the PDF is optimized after OCR\n",
            "\n",
            "  -O {0,1,2,3}, --optimize {0,1,2,3}\n",
            "                        Control how PDF is optimized after processing:0 - do\n",
            "                        not optimize; 1 - do safe, lossless optimizations\n",
            "                        (default); 2 - do some lossy optimizations; 3 - do\n",
            "                        aggressive lossy optimizations (including lossy JBIG2)\n",
            "  --jpeg-quality Q      Adjust JPEG quality level for JPEG optimization. 100\n",
            "                        is best quality and largest output size; 1 is lowest\n",
            "                        quality and smallest output; 0 uses the default.\n",
            "  --png-quality Q       Adjust PNG quality level to use when quantizing PNGs.\n",
            "                        Values have same meaning as with --jpeg-quality\n",
            "  --jbig2-lossy         Enable JBIG2 lossy mode (better compression, not\n",
            "                        suitable for some use cases - see documentation).\n",
            "\n",
            "Advanced:\n",
            "  Advanced options to control OCRmyPDF\n",
            "\n",
            "  --pages PAGES         Limit OCR to the specified pages (ranges or comma\n",
            "                        separated), skipping others\n",
            "  --max-image-mpixels MPixels\n",
            "                        Set maximum number of pixels to unpack before treating\n",
            "                        an image as a decompression bomb\n",
            "  --pdf-renderer {auto,hocr,sandwich,hocrdebug}\n",
            "                        Choose OCR PDF renderer - the default option is to let\n",
            "                        OCRmyPDF choose. See documentation for discussion.\n",
            "  --rotate-pages-threshold CONFIDENCE\n",
            "                        Only rotate pages when confidence is above this value\n",
            "                        (arbitrary units reported by tesseract)\n",
            "  --pdfa-image-compression {auto,jpeg,lossless}\n",
            "                        Specify how to compress images in the output PDF/A.\n",
            "                        'auto' lets OCRmyPDF decide. 'jpeg' changes all\n",
            "                        grayscale and color images to JPEG compression.\n",
            "                        'lossless' uses PNG-style lossless compression for all\n",
            "                        images. Monochrome images are always compressed using\n",
            "                        a lossless codec. Compression settings are applied to\n",
            "                        all pages, including those for which OCR was skipped.\n",
            "                        Not supported for --output-type=pdf ; that setting\n",
            "                        preserves the original compression of all images.\n",
            "  --fast-web-view MEGABYTES\n",
            "                        If the size of file is more than this threshold (in\n",
            "                        MB), then linearize the PDF for fast web viewing. This\n",
            "                        allows the PDF to be displayed before it is fully\n",
            "                        downloaded in web browsers, but increases the space\n",
            "                        required slightly. By default we skip this for small\n",
            "                        files which do not benefit. If the threshold is 0 it\n",
            "                        will be apply to all files. Set the threshold very\n",
            "                        high to disable.\n",
            "  --plugin PLUGINS      Name of plugin to import. Argument may be issued\n",
            "                        multiple times to import multiple plugins. Plugins may\n",
            "                        be specified as module names in Python syntax,\n",
            "                        provided they are installed in the same Python\n",
            "                        (virtual) environment as ocrmypdf; or you may give the\n",
            "                        path to the Python file that contains the plugin.\n",
            "                        Plugins must conform to the specification in the\n",
            "                        OCRmyPDF documentation.\n",
            "\n",
            "Debugging:\n",
            "  Arguments to help with troubleshooting and debugging\n",
            "\n",
            "  -k, --keep-temporary-files\n",
            "                        Keep temporary files (helpful for debugging)\n",
            "\n",
            "Tesseract:\n",
            "  Advanced control of Tesseract OCR\n",
            "\n",
            "  --tesseract-config CFG\n",
            "                        Additional Tesseract configuration files -- see\n",
            "                        documentation\n",
            "  --tesseract-pagesegmode PSM\n",
            "                        Set Tesseract page segmentation mode (see tesseract\n",
            "                        --help)\n",
            "  --tesseract-oem MODE  Set Tesseract 4.0 OCR engine mode: 0 - original\n",
            "                        Tesseract only; 1 - neural nets LSTM only; 2 -\n",
            "                        Tesseract + LSTM; 3 - default.\n",
            "  --tesseract-timeout SECONDS\n",
            "                        Give up on OCR after the timeout, but copy the\n",
            "                        preprocessed page into the final output\n",
            "  --user-words FILE     Specify the location of the Tesseract user words file.\n",
            "                        This is a list of words Tesseract should consider\n",
            "                        while performing OCR in addition to its standard\n",
            "                        language dictionaries. This can improve OCR quality\n",
            "                        especially for specialized and technical documents.\n",
            "  --user-patterns FILE  Specify the location of the Tesseract user patterns\n",
            "                        file.\n",
            "\n",
            "OCRmyPDF attempts to keep the output file at about the same size.  If a file\n",
            "contains losslessly compressed images, and images in the output file will be\n",
            "losslessly compressed as well.\n",
            "\n",
            "PDF is a page description file that attempts to preserve a layout exactly.\n",
            "A PDF can contain vector objects (such as text or lines) and raster objects\n",
            "(images).  A page might have multiple images.  OCRmyPDF is prepared to deal\n",
            "with the wide variety of PDFs that exist in the wild.\n",
            "\n",
            "When a PDF page contains text, OCRmyPDF assumes that the page has already\n",
            "been OCRed or is a \"born digital\" page that should not be OCRed.  The default\n",
            "behavior is to exit in this case without producing a file.  You can use the\n",
            "option --skip-text to ignore pages with text, or --force-ocr to rasterize\n",
            "all objects on the page and produce an image-only PDF as output.\n",
            "\n",
            "    ocrmypdf --skip-text file_with_some_text_pages.pdf output.pdf\n",
            "\n",
            "    ocrmypdf --force-ocr word_document.pdf output.pdf\n",
            "\n",
            "If you are concerned about long-term archiving of PDFs, use the default option\n",
            "--output-type pdfa which converts the PDF to a standardized PDF/A-2b.  This\n",
            "removes some features from the PDF such as Javascript or forms. If you want to\n",
            "minimize the number of changes made to your PDF, use --output-type pdf.\n",
            "\n",
            "If OCRmyPDF is given an image file as input, it will attempt to convert the\n",
            "image to a PDF before processing.  For more control over the conversion of\n",
            "images to PDF, use the Python package img2pdf or other image to PDF software.\n",
            "\n",
            "For example, this command uses img2pdf to convert all .png files beginning\n",
            "with the 'page' prefix to a PDF, fitting each image on A4-sized paper, and\n",
            "sending the result to OCRmyPDF through a pipe.\n",
            "\n",
            "    img2pdf --pagesize A4 page*.png | ocrmypdf - myfile.pdf\n",
            "\n",
            "Online documentation is located at:\n",
            "    https://ocrmypdf.readthedocs.io/en/latest/introduction.html\n"
          ],
          "name": "stdout"
        }
      ]
    },
    {
      "cell_type": "code",
      "metadata": {
        "colab": {
          "base_uri": "https://localhost:8080/",
          "height": 35
        },
        "id": "RAMPPNQYRghq",
        "outputId": "c107eea7-cec8-43ce-b503-e74f9f567a54"
      },
      "source": [
        "from ctypes.util import find_library\n",
        "find_library(\"gs\")"
      ],
      "execution_count": 5,
      "outputs": [
        {
          "output_type": "execute_result",
          "data": {
            "text/plain": [
              "'libgs.so.9'"
            ],
            "application/vnd.google.colaboratory.intrinsic+json": {
              "type": "string"
            }
          },
          "metadata": {},
          "execution_count": 5
        }
      ]
    },
    {
      "cell_type": "code",
      "metadata": {
        "id": "6vVNOL-yYhb2"
      },
      "source": [
        "#optional imports to make a pretty list\n",
        "import pandas as pd\n",
        "%load_ext google.colab.data_table"
      ],
      "execution_count": 6,
      "outputs": []
    },
    {
      "cell_type": "code",
      "metadata": {
        "id": "i-VxYtJ-jARe"
      },
      "source": [
        "!mkdir input_papers\n",
        "!mkdir output_papers"
      ],
      "execution_count": 7,
      "outputs": []
    },
    {
      "cell_type": "markdown",
      "metadata": {
        "id": "JFIUgo09Qb0d"
      },
      "source": [
        "## OCR Execution"
      ]
    },
    {
      "cell_type": "markdown",
      "metadata": {
        "id": "sEActy1Fcs9-"
      },
      "source": [
        "<==== click on the Folder logo.  \n",
        "Drag and drop you files in the \"input_papers\" folder.  \n",
        "The output files will be located in the \"output_papers\" folder.  \n",
        "(If the folders are not visible, refresh the explorer with the refresh button)"
      ]
    },
    {
      "cell_type": "code",
      "metadata": {
        "colab": {
          "base_uri": "https://localhost:8080/",
          "height": 129
        },
        "id": "mSqutb7ZVoA4",
        "outputId": "c42a9636-90b2-4df7-b06a-0819472d0010"
      },
      "source": [
        "import os\n",
        "file_list = []\n",
        "\n",
        "input_folder_path = \"/content/input_papers\"\n",
        "output_folder_path = \"/content/output_papers\"\n",
        "\n",
        "for filename in os.listdir(input_folder_path):\n",
        "    if filename.endswith(\"pdf\"): \n",
        "      file_list.append(filename)\n",
        "\n",
        "print(\"The following files will be converted : \") \n",
        "pd.DataFrame(file_list, columns=[\"Filename\"])"
      ],
      "execution_count": 17,
      "outputs": [
        {
          "output_type": "stream",
          "name": "stdout",
          "text": [
            "The following files will be converted : \n"
          ]
        },
        {
          "output_type": "execute_result",
          "data": {
            "text/plain": [
              "  Filename\n",
              "0  taz.pdf"
            ],
            "text/html": [
              "\n",
              "  <div id=\"df-144562c7-dde9-499e-9fb3-e8b2e9854bdf\">\n",
              "    <div class=\"colab-df-container\">\n",
              "      <div>\n",
              "<style scoped>\n",
              "    .dataframe tbody tr th:only-of-type {\n",
              "        vertical-align: middle;\n",
              "    }\n",
              "\n",
              "    .dataframe tbody tr th {\n",
              "        vertical-align: top;\n",
              "    }\n",
              "\n",
              "    .dataframe thead th {\n",
              "        text-align: right;\n",
              "    }\n",
              "</style>\n",
              "<table border=\"1\" class=\"dataframe\">\n",
              "  <thead>\n",
              "    <tr style=\"text-align: right;\">\n",
              "      <th></th>\n",
              "      <th>Filename</th>\n",
              "    </tr>\n",
              "  </thead>\n",
              "  <tbody>\n",
              "    <tr>\n",
              "      <th>0</th>\n",
              "      <td>taz.pdf</td>\n",
              "    </tr>\n",
              "  </tbody>\n",
              "</table>\n",
              "</div>\n",
              "      <button class=\"colab-df-convert\" onclick=\"convertToInteractive('df-144562c7-dde9-499e-9fb3-e8b2e9854bdf')\"\n",
              "              title=\"Convert this dataframe to an interactive table.\"\n",
              "              style=\"display:none;\">\n",
              "        \n",
              "  <svg xmlns=\"http://www.w3.org/2000/svg\" height=\"24px\"viewBox=\"0 0 24 24\"\n",
              "       width=\"24px\">\n",
              "    <path d=\"M0 0h24v24H0V0z\" fill=\"none\"/>\n",
              "    <path d=\"M18.56 5.44l.94 2.06.94-2.06 2.06-.94-2.06-.94-.94-2.06-.94 2.06-2.06.94zm-11 1L8.5 8.5l.94-2.06 2.06-.94-2.06-.94L8.5 2.5l-.94 2.06-2.06.94zm10 10l.94 2.06.94-2.06 2.06-.94-2.06-.94-.94-2.06-.94 2.06-2.06.94z\"/><path d=\"M17.41 7.96l-1.37-1.37c-.4-.4-.92-.59-1.43-.59-.52 0-1.04.2-1.43.59L10.3 9.45l-7.72 7.72c-.78.78-.78 2.05 0 2.83L4 21.41c.39.39.9.59 1.41.59.51 0 1.02-.2 1.41-.59l7.78-7.78 2.81-2.81c.8-.78.8-2.07 0-2.86zM5.41 20L4 18.59l7.72-7.72 1.47 1.35L5.41 20z\"/>\n",
              "  </svg>\n",
              "      </button>\n",
              "      \n",
              "  <style>\n",
              "    .colab-df-container {\n",
              "      display:flex;\n",
              "      flex-wrap:wrap;\n",
              "      gap: 12px;\n",
              "    }\n",
              "\n",
              "    .colab-df-convert {\n",
              "      background-color: #E8F0FE;\n",
              "      border: none;\n",
              "      border-radius: 50%;\n",
              "      cursor: pointer;\n",
              "      display: none;\n",
              "      fill: #1967D2;\n",
              "      height: 32px;\n",
              "      padding: 0 0 0 0;\n",
              "      width: 32px;\n",
              "    }\n",
              "\n",
              "    .colab-df-convert:hover {\n",
              "      background-color: #E2EBFA;\n",
              "      box-shadow: 0px 1px 2px rgba(60, 64, 67, 0.3), 0px 1px 3px 1px rgba(60, 64, 67, 0.15);\n",
              "      fill: #174EA6;\n",
              "    }\n",
              "\n",
              "    [theme=dark] .colab-df-convert {\n",
              "      background-color: #3B4455;\n",
              "      fill: #D2E3FC;\n",
              "    }\n",
              "\n",
              "    [theme=dark] .colab-df-convert:hover {\n",
              "      background-color: #434B5C;\n",
              "      box-shadow: 0px 1px 3px 1px rgba(0, 0, 0, 0.15);\n",
              "      filter: drop-shadow(0px 1px 2px rgba(0, 0, 0, 0.3));\n",
              "      fill: #FFFFFF;\n",
              "    }\n",
              "  </style>\n",
              "\n",
              "      <script>\n",
              "        const buttonEl =\n",
              "          document.querySelector('#df-144562c7-dde9-499e-9fb3-e8b2e9854bdf button.colab-df-convert');\n",
              "        buttonEl.style.display =\n",
              "          google.colab.kernel.accessAllowed ? 'block' : 'none';\n",
              "\n",
              "        async function convertToInteractive(key) {\n",
              "          const element = document.querySelector('#df-144562c7-dde9-499e-9fb3-e8b2e9854bdf');\n",
              "          const dataTable =\n",
              "            await google.colab.kernel.invokeFunction('convertToInteractive',\n",
              "                                                     [key], {});\n",
              "          if (!dataTable) return;\n",
              "\n",
              "          const docLinkHtml = 'Like what you see? Visit the ' +\n",
              "            '<a target=\"_blank\" href=https://colab.research.google.com/notebooks/data_table.ipynb>data table notebook</a>'\n",
              "            + ' to learn more about interactive tables.';\n",
              "          element.innerHTML = '';\n",
              "          dataTable['output_type'] = 'display_data';\n",
              "          await google.colab.output.renderOutput(dataTable, element);\n",
              "          const docLink = document.createElement('div');\n",
              "          docLink.innerHTML = docLinkHtml;\n",
              "          element.appendChild(docLink);\n",
              "        }\n",
              "      </script>\n",
              "    </div>\n",
              "  </div>\n",
              "  "
            ],
            "application/vnd.google.colaboratory.module+javascript": "\n      import \"https://ssl.gstatic.com/colaboratory/data_table/a8bd4d5e58f96183/data_table.js\";\n\n      window.createDataTable({\n        data: [[{\n            'v': 0,\n            'f': \"0\",\n        },\n\"taz.pdf\"]],\n        columns: [[\"number\", \"index\"], [\"string\", \"Filename\"]],\n        columnOptions: [{\"width\": \"1px\", \"className\": \"index_column\"}],\n        rowsPerPage: 25,\n        helpUrl: \"https://colab.research.google.com/notebooks/data_table.ipynb\",\n        suppressOutputScrolling: true,\n        minimumWidth: undefined,\n      });\n    "
          },
          "metadata": {},
          "execution_count": 17
        }
      ]
    },
    {
      "cell_type": "markdown",
      "metadata": {
        "id": "2JY2Vjwuc9u5"
      },
      "source": [
        "Warning : several minutes per file, please check the above list before proceeding."
      ]
    },
    {
      "cell_type": "code",
      "metadata": {
        "colab": {
          "base_uri": "https://localhost:8080/"
        },
        "id": "T6UZ_pALYo2b",
        "outputId": "7069bd78-240e-4d5d-f25a-ae66fb3b3faf"
      },
      "source": [
        "for filename in file_list:\n",
        "  print(\"Converting : \" + filename)\n",
        "  input_filename = input_folder_path+'/'+filename\n",
        "  output_filename = output_folder_path+'/'+filename\n",
        "  !ocrmypdf -l fas --force-ocr \"{input_filename}\" \"{output_filename}\" "
      ],
      "execution_count": 18,
      "outputs": [
        {
          "output_type": "stream",
          "name": "stdout",
          "text": [
            "Converting : taz.pdf\n",
            "Scanning contents: 100% 3/3 [00:00<00:00, 243.66page/s]\n",
            "Start processing 2 pages concurrently\n",
            "OCR: 100% 3.0/3.0 [00:26<00:00,  8.77s/page]\n",
            "Postprocessing...\n",
            "PDF/A conversion: 100% 3/3 [00:00<00:00,  4.27page/s]\n",
            "\u001b[33mSome input metadata could not be copied because it is not permitted in PDF/A. You may wish to examine the output PDF's XMP metadata.\u001b[0m\n",
            "Recompressing JPEGs: 0image [00:00, ?image/s]\n",
            "Deflating JPEGs: 100% 3/3 [00:00<00:00, 36.50image/s]\n",
            "JBIG2: 0item [00:00, ?item/s]\n",
            "Optimize ratio: 1.24 savings: 19.5%\n",
            "Output file is a PDF/A-2B (as expected)\n"
          ]
        }
      ]
    },
    {
      "cell_type": "code",
      "source": [],
      "metadata": {
        "id": "OFxxziFh5Q4O"
      },
      "execution_count": null,
      "outputs": []
    }
  ]
}