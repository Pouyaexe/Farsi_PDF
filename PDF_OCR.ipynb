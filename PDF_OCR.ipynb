{
  "nbformat": 4,
  "nbformat_minor": 0,
  "metadata": {
    "colab": {
      "name": "PDF_OCR.ipynb",
      "provenance": [],
      "include_colab_link": true
    },
    "kernelspec": {
      "name": "python3",
      "display_name": "Python 3"
    },
    "language_info": {
      "name": "python"
    },
    "accelerator": "GPU",
    "gpuClass": "standard"
  },
  "cells": [
    {
      "cell_type": "markdown",
      "metadata": {
        "id": "view-in-github",
        "colab_type": "text"
      },
      "source": [
        "<a href=\"https://colab.research.google.com/github/Pouyaexe/Farsi_PDF/blob/main/PDF_OCR.ipynb\" target=\"_parent\"><img src=\"https://colab.research.google.com/assets/colab-badge.svg\" alt=\"Open In Colab\"/></a>"
      ]
    },
    {
      "cell_type": "markdown",
      "metadata": {
        "id": "ClOQuULUQSy3"
      },
      "source": [
        "# Convert PDF to OCR Searchable PDF !"
      ]
    },
    {
      "cell_type": "markdown",
      "metadata": {
        "id": "nr0tFRNcQX0p"
      },
      "source": [
        "## Lib imports"
      ]
    },
    {
      "cell_type": "code",
      "metadata": {
        "id": "i-VxYtJ-jARe"
      },
      "source": [
        "!mkdir input_papers\n",
        "!mkdir output_papers"
      ],
      "execution_count": 1,
      "outputs": []
    },
    {
      "cell_type": "code",
      "metadata": {
        "colab": {
          "base_uri": "https://localhost:8080/"
        },
        "id": "sBl8EFSDPFR0",
        "outputId": "8f88958a-830f-4ecb-f6d8-f25a0fdf1450"
      },
      "source": [
        "! apt install tesseract-ocr\n",
        "! apt install libtesseract-dev"
      ],
      "execution_count": 2,
      "outputs": [
        {
          "output_type": "stream",
          "name": "stdout",
          "text": [
            "Reading package lists... Done\n",
            "Building dependency tree       \n",
            "Reading state information... Done\n",
            "The following additional packages will be installed:\n",
            "  tesseract-ocr-eng tesseract-ocr-osd\n",
            "The following NEW packages will be installed:\n",
            "  tesseract-ocr tesseract-ocr-eng tesseract-ocr-osd\n",
            "0 upgraded, 3 newly installed, 0 to remove and 23 not upgraded.\n",
            "Need to get 4,850 kB of archives.\n",
            "After this operation, 16.3 MB of additional disk space will be used.\n",
            "Get:1 http://archive.ubuntu.com/ubuntu focal/universe amd64 tesseract-ocr-eng all 1:4.00~git30-7274cfa-1 [1,598 kB]\n",
            "Get:2 http://archive.ubuntu.com/ubuntu focal/universe amd64 tesseract-ocr-osd all 1:4.00~git30-7274cfa-1 [2,990 kB]\n",
            "Get:3 http://archive.ubuntu.com/ubuntu focal/universe amd64 tesseract-ocr amd64 4.1.1-2build2 [262 kB]\n",
            "Fetched 4,850 kB in 2s (2,059 kB/s)\n",
            "Selecting previously unselected package tesseract-ocr-eng.\n",
            "(Reading database ... 129504 files and directories currently installed.)\n",
            "Preparing to unpack .../tesseract-ocr-eng_1%3a4.00~git30-7274cfa-1_all.deb ...\n",
            "Unpacking tesseract-ocr-eng (1:4.00~git30-7274cfa-1) ...\n",
            "Selecting previously unselected package tesseract-ocr-osd.\n",
            "Preparing to unpack .../tesseract-ocr-osd_1%3a4.00~git30-7274cfa-1_all.deb ...\n",
            "Unpacking tesseract-ocr-osd (1:4.00~git30-7274cfa-1) ...\n",
            "Selecting previously unselected package tesseract-ocr.\n",
            "Preparing to unpack .../tesseract-ocr_4.1.1-2build2_amd64.deb ...\n",
            "Unpacking tesseract-ocr (4.1.1-2build2) ...\n",
            "Setting up tesseract-ocr-eng (1:4.00~git30-7274cfa-1) ...\n",
            "Setting up tesseract-ocr-osd (1:4.00~git30-7274cfa-1) ...\n",
            "Setting up tesseract-ocr (4.1.1-2build2) ...\n",
            "Processing triggers for man-db (2.9.1-1) ...\n",
            "Reading package lists... Done\n",
            "Building dependency tree       \n",
            "Reading state information... Done\n",
            "The following additional packages will be installed:\n",
            "  libarchive-dev libleptonica-dev\n",
            "The following NEW packages will be installed:\n",
            "  libarchive-dev libleptonica-dev libtesseract-dev\n",
            "0 upgraded, 3 newly installed, 0 to remove and 23 not upgraded.\n",
            "Need to get 3,343 kB of archives.\n",
            "After this operation, 15.7 MB of additional disk space will be used.\n",
            "Get:1 http://archive.ubuntu.com/ubuntu focal-updates/main amd64 libarchive-dev amd64 3.4.0-2ubuntu1.2 [491 kB]\n",
            "Get:2 http://archive.ubuntu.com/ubuntu focal/universe amd64 libleptonica-dev amd64 1.79.0-1 [1,389 kB]\n",
            "Get:3 http://archive.ubuntu.com/ubuntu focal/universe amd64 libtesseract-dev amd64 4.1.1-2build2 [1,463 kB]\n",
            "Fetched 3,343 kB in 2s (1,612 kB/s)\n",
            "Selecting previously unselected package libarchive-dev:amd64.\n",
            "(Reading database ... 129551 files and directories currently installed.)\n",
            "Preparing to unpack .../libarchive-dev_3.4.0-2ubuntu1.2_amd64.deb ...\n",
            "Unpacking libarchive-dev:amd64 (3.4.0-2ubuntu1.2) ...\n",
            "Selecting previously unselected package libleptonica-dev:amd64.\n",
            "Preparing to unpack .../libleptonica-dev_1.79.0-1_amd64.deb ...\n",
            "Unpacking libleptonica-dev:amd64 (1.79.0-1) ...\n",
            "Selecting previously unselected package libtesseract-dev:amd64.\n",
            "Preparing to unpack .../libtesseract-dev_4.1.1-2build2_amd64.deb ...\n",
            "Unpacking libtesseract-dev:amd64 (4.1.1-2build2) ...\n",
            "Setting up libleptonica-dev:amd64 (1.79.0-1) ...\n",
            "Setting up libarchive-dev:amd64 (3.4.0-2ubuntu1.2) ...\n",
            "Setting up libtesseract-dev:amd64 (4.1.1-2build2) ...\n",
            "Processing triggers for man-db (2.9.1-1) ...\n"
          ]
        }
      ]
    },
    {
      "cell_type": "code",
      "source": [
        "!apt-get install tesseract-ocr-fas"
      ],
      "metadata": {
        "id": "DBwNqMc8ElYp",
        "outputId": "0f03d3f6-60e8-4258-9760-dfaa20fbd86b",
        "colab": {
          "base_uri": "https://localhost:8080/"
        }
      },
      "execution_count": 3,
      "outputs": [
        {
          "output_type": "stream",
          "name": "stdout",
          "text": [
            "Reading package lists... Done\n",
            "Building dependency tree       \n",
            "Reading state information... Done\n",
            "The following NEW packages will be installed:\n",
            "  tesseract-ocr-fas\n",
            "0 upgraded, 1 newly installed, 0 to remove and 23 not upgraded.\n",
            "Need to get 301 kB of archives.\n",
            "After this operation, 446 kB of additional disk space will be used.\n",
            "Get:1 http://archive.ubuntu.com/ubuntu focal/universe amd64 tesseract-ocr-fas all 1:4.00~git30-7274cfa-1 [301 kB]\n",
            "Fetched 301 kB in 1s (249 kB/s)\n",
            "Selecting previously unselected package tesseract-ocr-fas.\n",
            "(Reading database ... 129682 files and directories currently installed.)\n",
            "Preparing to unpack .../tesseract-ocr-fas_1%3a4.00~git30-7274cfa-1_all.deb ...\n",
            "Unpacking tesseract-ocr-fas (1:4.00~git30-7274cfa-1) ...\n",
            "Setting up tesseract-ocr-fas (1:4.00~git30-7274cfa-1) ...\n"
          ]
        }
      ]
    },
    {
      "cell_type": "code",
      "metadata": {
        "colab": {
          "base_uri": "https://localhost:8080/",
          "height": 366
        },
        "id": "RWdJNvEfOpWb",
        "outputId": "bed87fc1-8c1e-462e-c685-22997572c730"
      },
      "source": [
        "!pip install pytesseract"
      ],
      "execution_count": 4,
      "outputs": [
        {
          "output_type": "stream",
          "name": "stdout",
          "text": [
            "Looking in indexes: https://pypi.org/simple, https://us-python.pkg.dev/colab-wheels/public/simple/\n",
            "Collecting pytesseract\n",
            "  Downloading pytesseract-0.3.10-py3-none-any.whl (14 kB)\n",
            "Collecting Pillow>=8.0.0\n",
            "  Downloading Pillow-9.4.0-cp38-cp38-manylinux_2_28_x86_64.whl (3.4 MB)\n",
            "\u001b[2K     \u001b[90m━━━━━━━━━━━━━━━━━━━━━━━━━━━━━━━━━━━━━━━━\u001b[0m \u001b[32m3.4/3.4 MB\u001b[0m \u001b[31m83.0 MB/s\u001b[0m eta \u001b[36m0:00:00\u001b[0m\n",
            "\u001b[?25hRequirement already satisfied: packaging>=21.3 in /usr/local/lib/python3.8/dist-packages (from pytesseract) (21.3)\n",
            "Requirement already satisfied: pyparsing!=3.0.5,>=2.0.2 in /usr/local/lib/python3.8/dist-packages (from packaging>=21.3->pytesseract) (3.0.9)\n",
            "Installing collected packages: Pillow, pytesseract\n",
            "  Attempting uninstall: Pillow\n",
            "    Found existing installation: Pillow 7.1.2\n",
            "    Uninstalling Pillow-7.1.2:\n",
            "      Successfully uninstalled Pillow-7.1.2\n",
            "Successfully installed Pillow-9.4.0 pytesseract-0.3.10\n"
          ]
        },
        {
          "output_type": "display_data",
          "data": {
            "application/vnd.colab-display-data+json": {
              "pip_warning": {
                "packages": [
                  "PIL"
                ]
              }
            }
          },
          "metadata": {}
        }
      ]
    },
    {
      "cell_type": "code",
      "metadata": {
        "colab": {
          "base_uri": "https://localhost:8080/"
        },
        "id": "paGWcxHCRSDE",
        "outputId": "9e5d48e5-f1ac-4868-f2ca-8bda285ccb70"
      },
      "source": [
        "!apt install ghostscript"
      ],
      "execution_count": 5,
      "outputs": [
        {
          "output_type": "stream",
          "name": "stdout",
          "text": [
            "Reading package lists... Done\n",
            "Building dependency tree       \n",
            "Reading state information... Done\n",
            "The following additional packages will be installed:\n",
            "  fonts-droid-fallback fonts-noto-mono fonts-urw-base35 libgs9 libgs9-common\n",
            "  libidn11 libijs-0.35 libjbig2dec0 poppler-data\n",
            "Suggested packages:\n",
            "  fonts-noto fonts-freefont-otf | fonts-freefont-ttf fonts-texgyre\n",
            "  ghostscript-x poppler-utils fonts-japanese-mincho | fonts-ipafont-mincho\n",
            "  fonts-japanese-gothic | fonts-ipafont-gothic fonts-arphic-ukai\n",
            "  fonts-arphic-uming fonts-nanum\n",
            "The following NEW packages will be installed:\n",
            "  fonts-droid-fallback fonts-noto-mono fonts-urw-base35 ghostscript libgs9\n",
            "  libgs9-common libidn11 libijs-0.35 libjbig2dec0 poppler-data\n",
            "0 upgraded, 10 newly installed, 0 to remove and 23 not upgraded.\n",
            "Need to get 12.7 MB of archives.\n",
            "After this operation, 51.8 MB of additional disk space will be used.\n",
            "Get:1 http://archive.ubuntu.com/ubuntu focal/main amd64 fonts-droid-fallback all 1:6.0.1r16-1.1 [1,805 kB]\n",
            "Get:2 http://archive.ubuntu.com/ubuntu focal/main amd64 poppler-data all 0.4.9-2 [1,475 kB]\n",
            "Get:3 http://archive.ubuntu.com/ubuntu focal-updates/main amd64 fonts-noto-mono all 20200323-1build1~ubuntu20.04.1 [80.6 kB]\n",
            "Get:4 http://archive.ubuntu.com/ubuntu focal/main amd64 fonts-urw-base35 all 20170801.1-3 [6,333 kB]\n",
            "Get:5 http://archive.ubuntu.com/ubuntu focal-updates/main amd64 libgs9-common all 9.50~dfsg-5ubuntu4.6 [681 kB]\n",
            "Get:6 http://archive.ubuntu.com/ubuntu focal/main amd64 libidn11 amd64 1.33-2.2ubuntu2 [46.2 kB]\n",
            "Get:7 http://archive.ubuntu.com/ubuntu focal/main amd64 libijs-0.35 amd64 0.35-15 [15.7 kB]\n",
            "Get:8 http://archive.ubuntu.com/ubuntu focal/main amd64 libjbig2dec0 amd64 0.18-1ubuntu1 [60.0 kB]\n",
            "Get:9 http://archive.ubuntu.com/ubuntu focal-updates/main amd64 libgs9 amd64 9.50~dfsg-5ubuntu4.6 [2,173 kB]\n",
            "Get:10 http://archive.ubuntu.com/ubuntu focal-updates/main amd64 ghostscript amd64 9.50~dfsg-5ubuntu4.6 [51.8 kB]\n",
            "Fetched 12.7 MB in 3s (4,941 kB/s)\n",
            "Selecting previously unselected package fonts-droid-fallback.\n",
            "(Reading database ... 129686 files and directories currently installed.)\n",
            "Preparing to unpack .../0-fonts-droid-fallback_1%3a6.0.1r16-1.1_all.deb ...\n",
            "Unpacking fonts-droid-fallback (1:6.0.1r16-1.1) ...\n",
            "Selecting previously unselected package poppler-data.\n",
            "Preparing to unpack .../1-poppler-data_0.4.9-2_all.deb ...\n",
            "Unpacking poppler-data (0.4.9-2) ...\n",
            "Selecting previously unselected package fonts-noto-mono.\n",
            "Preparing to unpack .../2-fonts-noto-mono_20200323-1build1~ubuntu20.04.1_all.deb ...\n",
            "Unpacking fonts-noto-mono (20200323-1build1~ubuntu20.04.1) ...\n",
            "Selecting previously unselected package fonts-urw-base35.\n",
            "Preparing to unpack .../3-fonts-urw-base35_20170801.1-3_all.deb ...\n",
            "Unpacking fonts-urw-base35 (20170801.1-3) ...\n",
            "Selecting previously unselected package libgs9-common.\n",
            "Preparing to unpack .../4-libgs9-common_9.50~dfsg-5ubuntu4.6_all.deb ...\n",
            "Unpacking libgs9-common (9.50~dfsg-5ubuntu4.6) ...\n",
            "Selecting previously unselected package libidn11:amd64.\n",
            "Preparing to unpack .../5-libidn11_1.33-2.2ubuntu2_amd64.deb ...\n",
            "Unpacking libidn11:amd64 (1.33-2.2ubuntu2) ...\n",
            "Selecting previously unselected package libijs-0.35:amd64.\n",
            "Preparing to unpack .../6-libijs-0.35_0.35-15_amd64.deb ...\n",
            "Unpacking libijs-0.35:amd64 (0.35-15) ...\n",
            "Selecting previously unselected package libjbig2dec0:amd64.\n",
            "Preparing to unpack .../7-libjbig2dec0_0.18-1ubuntu1_amd64.deb ...\n",
            "Unpacking libjbig2dec0:amd64 (0.18-1ubuntu1) ...\n",
            "Selecting previously unselected package libgs9:amd64.\n",
            "Preparing to unpack .../8-libgs9_9.50~dfsg-5ubuntu4.6_amd64.deb ...\n",
            "Unpacking libgs9:amd64 (9.50~dfsg-5ubuntu4.6) ...\n",
            "Selecting previously unselected package ghostscript.\n",
            "Preparing to unpack .../9-ghostscript_9.50~dfsg-5ubuntu4.6_amd64.deb ...\n",
            "Unpacking ghostscript (9.50~dfsg-5ubuntu4.6) ...\n",
            "Setting up fonts-noto-mono (20200323-1build1~ubuntu20.04.1) ...\n",
            "Setting up libijs-0.35:amd64 (0.35-15) ...\n",
            "Setting up fonts-urw-base35 (20170801.1-3) ...\n",
            "Setting up poppler-data (0.4.9-2) ...\n",
            "Setting up libjbig2dec0:amd64 (0.18-1ubuntu1) ...\n",
            "Setting up libidn11:amd64 (1.33-2.2ubuntu2) ...\n",
            "Setting up fonts-droid-fallback (1:6.0.1r16-1.1) ...\n",
            "Setting up libgs9-common (9.50~dfsg-5ubuntu4.6) ...\n",
            "Setting up libgs9:amd64 (9.50~dfsg-5ubuntu4.6) ...\n",
            "Setting up ghostscript (9.50~dfsg-5ubuntu4.6) ...\n",
            "Processing triggers for fontconfig (2.13.1-2ubuntu3) ...\n",
            "Processing triggers for libc-bin (2.31-0ubuntu9.9) ...\n",
            "Processing triggers for man-db (2.9.1-1) ...\n"
          ]
        }
      ]
    },
    {
      "cell_type": "code",
      "metadata": {
        "colab": {
          "base_uri": "https://localhost:8080/"
        },
        "id": "-r5OBayiN0AJ",
        "outputId": "cd032db9-9191-4b69-c0d8-9335c977ac26"
      },
      "source": [
        "!pip install ocrmypdf==13.7.0"
      ],
      "execution_count": 6,
      "outputs": [
        {
          "output_type": "stream",
          "name": "stdout",
          "text": [
            "Looking in indexes: https://pypi.org/simple, https://us-python.pkg.dev/colab-wheels/public/simple/\n",
            "Collecting ocrmypdf==13.7.0\n",
            "  Downloading ocrmypdf-13.7.0-py37-none-any.whl (123 kB)\n",
            "\u001b[2K     \u001b[90m━━━━━━━━━━━━━━━━━━━━━━━━━━━━━━━━━━━━━━\u001b[0m \u001b[32m124.0/124.0 KB\u001b[0m \u001b[31m14.0 MB/s\u001b[0m eta \u001b[36m0:00:00\u001b[0m\n",
            "\u001b[?25hCollecting coloredlogs>=14.0\n",
            "  Downloading coloredlogs-15.0.1-py2.py3-none-any.whl (46 kB)\n",
            "\u001b[2K     \u001b[90m━━━━━━━━━━━━━━━━━━━━━━━━━━━━━━━━━━━━━━━━\u001b[0m \u001b[32m46.0/46.0 KB\u001b[0m \u001b[31m6.0 MB/s\u001b[0m eta \u001b[36m0:00:00\u001b[0m\n",
            "\u001b[?25hCollecting reportlab>=3.5.66\n",
            "  Downloading reportlab-3.6.12-cp38-cp38-manylinux_2_17_x86_64.manylinux2014_x86_64.whl (2.8 MB)\n",
            "\u001b[2K     \u001b[90m━━━━━━━━━━━━━━━━━━━━━━━━━━━━━━━━━━━━━━━━\u001b[0m \u001b[32m2.8/2.8 MB\u001b[0m \u001b[31m98.7 MB/s\u001b[0m eta \u001b[36m0:00:00\u001b[0m\n",
            "\u001b[?25hRequirement already satisfied: Pillow>=8.2.0 in /usr/local/lib/python3.8/dist-packages (from ocrmypdf==13.7.0) (9.4.0)\n",
            "Collecting pluggy>=0.13.0\n",
            "  Downloading pluggy-1.0.0-py2.py3-none-any.whl (13 kB)\n",
            "Requirement already satisfied: typing-extensions>=4 in /usr/local/lib/python3.8/dist-packages (from ocrmypdf==13.7.0) (4.4.0)\n",
            "Requirement already satisfied: importlib-resources>=5 in /usr/local/lib/python3.8/dist-packages (from ocrmypdf==13.7.0) (5.10.2)\n",
            "Collecting img2pdf>=0.3.0\n",
            "  Downloading img2pdf-0.4.4.tar.gz (97 kB)\n",
            "\u001b[2K     \u001b[90m━━━━━━━━━━━━━━━━━━━━━━━━━━━━━━━━━━━━━━━━\u001b[0m \u001b[32m97.8/97.8 KB\u001b[0m \u001b[31m12.8 MB/s\u001b[0m eta \u001b[36m0:00:00\u001b[0m\n",
            "\u001b[?25h  Preparing metadata (setup.py) ... \u001b[?25l\u001b[?25hdone\n",
            "Collecting pdfminer.six!=20200720,>=20191110\n",
            "  Downloading pdfminer.six-20221105-py3-none-any.whl (5.6 MB)\n",
            "\u001b[2K     \u001b[90m━━━━━━━━━━━━━━━━━━━━━━━━━━━━━━━━━━━━━━━━\u001b[0m \u001b[32m5.6/5.6 MB\u001b[0m \u001b[31m56.3 MB/s\u001b[0m eta \u001b[36m0:00:00\u001b[0m\n",
            "\u001b[?25hCollecting pikepdf!=5.0.0,>=4.0.0\n",
            "  Downloading pikepdf-6.2.8.post1-cp38-cp38-manylinux_2_17_x86_64.manylinux2014_x86_64.whl (2.6 MB)\n",
            "\u001b[2K     \u001b[90m━━━━━━━━━━━━━━━━━━━━━━━━━━━━━━━━━━━━━━━━\u001b[0m \u001b[32m2.6/2.6 MB\u001b[0m \u001b[31m98.1 MB/s\u001b[0m eta \u001b[36m0:00:00\u001b[0m\n",
            "\u001b[?25hRequirement already satisfied: tqdm>=4 in /usr/local/lib/python3.8/dist-packages (from ocrmypdf==13.7.0) (4.64.1)\n",
            "Requirement already satisfied: packaging>=20 in /usr/local/lib/python3.8/dist-packages (from ocrmypdf==13.7.0) (21.3)\n",
            "Collecting humanfriendly>=9.1\n",
            "  Downloading humanfriendly-10.0-py2.py3-none-any.whl (86 kB)\n",
            "\u001b[2K     \u001b[90m━━━━━━━━━━━━━━━━━━━━━━━━━━━━━━━━━━━━━━━━\u001b[0m \u001b[32m86.8/86.8 KB\u001b[0m \u001b[31m12.2 MB/s\u001b[0m eta \u001b[36m0:00:00\u001b[0m\n",
            "\u001b[?25hRequirement already satisfied: zipp>=3.1.0 in /usr/local/lib/python3.8/dist-packages (from importlib-resources>=5->ocrmypdf==13.7.0) (3.11.0)\n",
            "Requirement already satisfied: pyparsing!=3.0.5,>=2.0.2 in /usr/local/lib/python3.8/dist-packages (from packaging>=20->ocrmypdf==13.7.0) (3.0.9)\n",
            "Requirement already satisfied: charset-normalizer>=2.0.0 in /usr/local/lib/python3.8/dist-packages (from pdfminer.six!=20200720,>=20191110->ocrmypdf==13.7.0) (2.1.1)\n",
            "Collecting cryptography>=36.0.0\n",
            "  Downloading cryptography-39.0.0-cp36-abi3-manylinux_2_28_x86_64.whl (4.2 MB)\n",
            "\u001b[2K     \u001b[90m━━━━━━━━━━━━━━━━━━━━━━━━━━━━━━━━━━━━━━━━\u001b[0m \u001b[32m4.2/4.2 MB\u001b[0m \u001b[31m109.9 MB/s\u001b[0m eta \u001b[36m0:00:00\u001b[0m\n",
            "\u001b[?25hCollecting deprecation\n",
            "  Downloading deprecation-2.1.0-py2.py3-none-any.whl (11 kB)\n",
            "Requirement already satisfied: lxml>=4.8 in /usr/local/lib/python3.8/dist-packages (from pikepdf!=5.0.0,>=4.0.0->ocrmypdf==13.7.0) (4.9.2)\n",
            "Requirement already satisfied: cffi>=1.12 in /usr/local/lib/python3.8/dist-packages (from cryptography>=36.0.0->pdfminer.six!=20200720,>=20191110->ocrmypdf==13.7.0) (1.15.1)\n",
            "Requirement already satisfied: pycparser in /usr/local/lib/python3.8/dist-packages (from cffi>=1.12->cryptography>=36.0.0->pdfminer.six!=20200720,>=20191110->ocrmypdf==13.7.0) (2.21)\n",
            "Building wheels for collected packages: img2pdf\n",
            "  Building wheel for img2pdf (setup.py) ... \u001b[?25l\u001b[?25hdone\n",
            "  Created wheel for img2pdf: filename=img2pdf-0.4.4-py3-none-any.whl size=44880 sha256=ca06d2b58600274b1fd0f2f80641fc3e7bd72cb7990a69fd20714e06b5f122d5\n",
            "  Stored in directory: /root/.cache/pip/wheels/eb/bc/b2/4eda06b65d019084545cddb68681b1f0f0b1fc9b6ce9e12cae\n",
            "Successfully built img2pdf\n",
            "Installing collected packages: reportlab, pluggy, humanfriendly, deprecation, cryptography, coloredlogs, pikepdf, pdfminer.six, img2pdf, ocrmypdf\n",
            "  Attempting uninstall: pluggy\n",
            "    Found existing installation: pluggy 0.7.1\n",
            "    Uninstalling pluggy-0.7.1:\n",
            "      Successfully uninstalled pluggy-0.7.1\n",
            "\u001b[31mERROR: pip's dependency resolver does not currently take into account all the packages that are installed. This behaviour is the source of the following dependency conflicts.\n",
            "pytest 3.6.4 requires pluggy<0.8,>=0.5, but you have pluggy 1.0.0 which is incompatible.\u001b[0m\u001b[31m\n",
            "\u001b[0mSuccessfully installed coloredlogs-15.0.1 cryptography-39.0.0 deprecation-2.1.0 humanfriendly-10.0 img2pdf-0.4.4 ocrmypdf-13.7.0 pdfminer.six-20221105 pikepdf-6.2.8.post1 pluggy-1.0.0 reportlab-3.6.12\n"
          ]
        }
      ]
    },
    {
      "cell_type": "code",
      "metadata": {
        "colab": {
          "base_uri": "https://localhost:8080/",
          "height": 35
        },
        "id": "RAMPPNQYRghq",
        "outputId": "3143c928-5cfe-44b7-8a80-0e99a8a5f9b6"
      },
      "source": [
        "from ctypes.util import find_library\n",
        "find_library(\"gs\")"
      ],
      "execution_count": 7,
      "outputs": [
        {
          "output_type": "execute_result",
          "data": {
            "text/plain": [
              "'libgs.so.9'"
            ],
            "application/vnd.google.colaboratory.intrinsic+json": {
              "type": "string"
            }
          },
          "metadata": {},
          "execution_count": 7
        }
      ]
    },
    {
      "cell_type": "code",
      "metadata": {
        "id": "6vVNOL-yYhb2"
      },
      "source": [
        "#optional imports to make a pretty list\n",
        "import pandas as pd\n",
        "%load_ext google.colab.data_table"
      ],
      "execution_count": 8,
      "outputs": []
    },
    {
      "cell_type": "markdown",
      "metadata": {
        "id": "JFIUgo09Qb0d"
      },
      "source": [
        "## OCR Execution"
      ]
    },
    {
      "cell_type": "markdown",
      "metadata": {
        "id": "sEActy1Fcs9-"
      },
      "source": [
        "<==== click on the Folder logo.  \n",
        "Drag and drop you files in the \"input_papers\" folder.  \n",
        "The output files will be located in the \"output_papers\" folder.  \n",
        "(If the folders are not visible, refresh the explorer with the refresh button)"
      ]
    },
    {
      "cell_type": "code",
      "metadata": {
        "id": "mSqutb7ZVoA4",
        "outputId": "a2224005-9236-4ba7-f853-865deda504fb",
        "colab": {
          "base_uri": "https://localhost:8080/",
          "height": 128
        }
      },
      "source": [
        "import os\n",
        "file_list = []\n",
        "\n",
        "input_folder_path = \"/content/input_papers\"\n",
        "output_folder_path = \"/content/output_papers\"\n",
        "\n",
        "for filename in os.listdir(input_folder_path):\n",
        "    if filename.endswith(\"pdf\"): \n",
        "      file_list.append(filename)\n",
        "\n",
        "print(\"The following files will be converted : \") \n",
        "pd.DataFrame(file_list, columns=[\"Filename\"])"
      ],
      "execution_count": 9,
      "outputs": [
        {
          "output_type": "stream",
          "name": "stdout",
          "text": [
            "The following files will be converted : \n"
          ]
        },
        {
          "output_type": "execute_result",
          "data": {
            "text/plain": [
              "            Filename\n",
              "0  bazi_mianterm.pdf"
            ],
            "text/html": [
              "\n",
              "  <div id=\"df-b054c79e-1e38-46e7-8728-56922b5367cb\">\n",
              "    <div class=\"colab-df-container\">\n",
              "      <div>\n",
              "<style scoped>\n",
              "    .dataframe tbody tr th:only-of-type {\n",
              "        vertical-align: middle;\n",
              "    }\n",
              "\n",
              "    .dataframe tbody tr th {\n",
              "        vertical-align: top;\n",
              "    }\n",
              "\n",
              "    .dataframe thead th {\n",
              "        text-align: right;\n",
              "    }\n",
              "</style>\n",
              "<table border=\"1\" class=\"dataframe\">\n",
              "  <thead>\n",
              "    <tr style=\"text-align: right;\">\n",
              "      <th></th>\n",
              "      <th>Filename</th>\n",
              "    </tr>\n",
              "  </thead>\n",
              "  <tbody>\n",
              "    <tr>\n",
              "      <th>0</th>\n",
              "      <td>bazi_mianterm.pdf</td>\n",
              "    </tr>\n",
              "  </tbody>\n",
              "</table>\n",
              "</div>\n",
              "      <button class=\"colab-df-convert\" onclick=\"convertToInteractive('df-b054c79e-1e38-46e7-8728-56922b5367cb')\"\n",
              "              title=\"Convert this dataframe to an interactive table.\"\n",
              "              style=\"display:none;\">\n",
              "        \n",
              "  <svg xmlns=\"http://www.w3.org/2000/svg\" height=\"24px\"viewBox=\"0 0 24 24\"\n",
              "       width=\"24px\">\n",
              "    <path d=\"M0 0h24v24H0V0z\" fill=\"none\"/>\n",
              "    <path d=\"M18.56 5.44l.94 2.06.94-2.06 2.06-.94-2.06-.94-.94-2.06-.94 2.06-2.06.94zm-11 1L8.5 8.5l.94-2.06 2.06-.94-2.06-.94L8.5 2.5l-.94 2.06-2.06.94zm10 10l.94 2.06.94-2.06 2.06-.94-2.06-.94-.94-2.06-.94 2.06-2.06.94z\"/><path d=\"M17.41 7.96l-1.37-1.37c-.4-.4-.92-.59-1.43-.59-.52 0-1.04.2-1.43.59L10.3 9.45l-7.72 7.72c-.78.78-.78 2.05 0 2.83L4 21.41c.39.39.9.59 1.41.59.51 0 1.02-.2 1.41-.59l7.78-7.78 2.81-2.81c.8-.78.8-2.07 0-2.86zM5.41 20L4 18.59l7.72-7.72 1.47 1.35L5.41 20z\"/>\n",
              "  </svg>\n",
              "      </button>\n",
              "      \n",
              "  <style>\n",
              "    .colab-df-container {\n",
              "      display:flex;\n",
              "      flex-wrap:wrap;\n",
              "      gap: 12px;\n",
              "    }\n",
              "\n",
              "    .colab-df-convert {\n",
              "      background-color: #E8F0FE;\n",
              "      border: none;\n",
              "      border-radius: 50%;\n",
              "      cursor: pointer;\n",
              "      display: none;\n",
              "      fill: #1967D2;\n",
              "      height: 32px;\n",
              "      padding: 0 0 0 0;\n",
              "      width: 32px;\n",
              "    }\n",
              "\n",
              "    .colab-df-convert:hover {\n",
              "      background-color: #E2EBFA;\n",
              "      box-shadow: 0px 1px 2px rgba(60, 64, 67, 0.3), 0px 1px 3px 1px rgba(60, 64, 67, 0.15);\n",
              "      fill: #174EA6;\n",
              "    }\n",
              "\n",
              "    [theme=dark] .colab-df-convert {\n",
              "      background-color: #3B4455;\n",
              "      fill: #D2E3FC;\n",
              "    }\n",
              "\n",
              "    [theme=dark] .colab-df-convert:hover {\n",
              "      background-color: #434B5C;\n",
              "      box-shadow: 0px 1px 3px 1px rgba(0, 0, 0, 0.15);\n",
              "      filter: drop-shadow(0px 1px 2px rgba(0, 0, 0, 0.3));\n",
              "      fill: #FFFFFF;\n",
              "    }\n",
              "  </style>\n",
              "\n",
              "      <script>\n",
              "        const buttonEl =\n",
              "          document.querySelector('#df-b054c79e-1e38-46e7-8728-56922b5367cb button.colab-df-convert');\n",
              "        buttonEl.style.display =\n",
              "          google.colab.kernel.accessAllowed ? 'block' : 'none';\n",
              "\n",
              "        async function convertToInteractive(key) {\n",
              "          const element = document.querySelector('#df-b054c79e-1e38-46e7-8728-56922b5367cb');\n",
              "          const dataTable =\n",
              "            await google.colab.kernel.invokeFunction('convertToInteractive',\n",
              "                                                     [key], {});\n",
              "          if (!dataTable) return;\n",
              "\n",
              "          const docLinkHtml = 'Like what you see? Visit the ' +\n",
              "            '<a target=\"_blank\" href=https://colab.research.google.com/notebooks/data_table.ipynb>data table notebook</a>'\n",
              "            + ' to learn more about interactive tables.';\n",
              "          element.innerHTML = '';\n",
              "          dataTable['output_type'] = 'display_data';\n",
              "          await google.colab.output.renderOutput(dataTable, element);\n",
              "          const docLink = document.createElement('div');\n",
              "          docLink.innerHTML = docLinkHtml;\n",
              "          element.appendChild(docLink);\n",
              "        }\n",
              "      </script>\n",
              "    </div>\n",
              "  </div>\n",
              "  "
            ],
            "application/vnd.google.colaboratory.module+javascript": "\n      import \"https://ssl.gstatic.com/colaboratory/data_table/fb998edc550c7947/data_table.js\";\n\n      window.createDataTable({\n        data: [[{\n            'v': 0,\n            'f': \"0\",\n        },\n\"bazi_mianterm.pdf\"]],\n        columns: [[\"number\", \"index\"], [\"string\", \"Filename\"]],\n        columnOptions: [{\"width\": \"1px\", \"className\": \"index_column\"}],\n        rowsPerPage: 25,\n        helpUrl: \"https://colab.research.google.com/notebooks/data_table.ipynb\",\n        suppressOutputScrolling: true,\n        minimumWidth: undefined,\n      });\n    "
          },
          "metadata": {},
          "execution_count": 9
        }
      ]
    },
    {
      "cell_type": "code",
      "metadata": {
        "id": "T6UZ_pALYo2b",
        "outputId": "7d835a3b-44f2-4008-9ff0-ace61fe166ae",
        "colab": {
          "base_uri": "https://localhost:8080/"
        }
      },
      "source": [
        "for filename in file_list:\n",
        "  print(\"Converting : \" + filename)\n",
        "  input_filename = input_folder_path+'/'+filename\n",
        "  output_filename = output_folder_path+'/'+filename\n",
        "  !ocrmypdf -l fas+eng --force-ocr \"{input_filename}\" \"{output_filename}\""
      ],
      "execution_count": 10,
      "outputs": [
        {
          "output_type": "stream",
          "name": "stdout",
          "text": [
            "Converting : bazi_mianterm.pdf\n",
            "Scanning contents: 100% 33/33 [00:00<00:00, 34.34page/s]\n",
            "Start processing 2 pages concurrently\n",
            "    1 page already has text! - rasterizing text and running OCR anyway\n",
            "    2 page already has text! - rasterizing text and running OCR anyway\n",
            "    3 page already has text! - rasterizing text and running OCR anyway\n",
            "    4 page already has text! - rasterizing text and running OCR anyway\n",
            "    5 page already has text! - rasterizing text and running OCR anyway\n",
            "    6 page already has text! - rasterizing text and running OCR anyway\n",
            "    7 page already has text! - rasterizing text and running OCR anyway\n",
            "    8 page already has text! - rasterizing text and running OCR anyway\n",
            "    9 page already has text! - rasterizing text and running OCR anyway\n",
            "   10 page already has text! - rasterizing text and running OCR anyway\n",
            "   11 page already has text! - rasterizing text and running OCR anyway\n",
            "   12 page already has text! - rasterizing text and running OCR anyway\n",
            "   13 page already has text! - rasterizing text and running OCR anyway\n",
            "   14 page already has text! - rasterizing text and running OCR anyway\n",
            "   15 page already has text! - rasterizing text and running OCR anyway\n",
            "   16 page already has text! - rasterizing text and running OCR anyway\n",
            "   17 page already has text! - rasterizing text and running OCR anyway\n",
            "   18 page already has text! - rasterizing text and running OCR anyway\n",
            "   19 page already has text! - rasterizing text and running OCR anyway\n",
            "   20 page already has text! - rasterizing text and running OCR anyway\n",
            "   21 page already has text! - rasterizing text and running OCR anyway\n",
            "   22 page already has text! - rasterizing text and running OCR anyway\n",
            "   23 page already has text! - rasterizing text and running OCR anyway\n",
            "   24 page already has text! - rasterizing text and running OCR anyway\n",
            "   25 page already has text! - rasterizing text and running OCR anyway\n",
            "   26 page already has text! - rasterizing text and running OCR anyway\n",
            "   26 \u001b[33m[tesseract] lots of diacritics - possibly poor OCR\u001b[0m\n",
            "   27 page already has text! - rasterizing text and running OCR anyway\n",
            "   28 page already has text! - rasterizing text and running OCR anyway\n",
            "   27 \u001b[33m[tesseract] lots of diacritics - possibly poor OCR\u001b[0m\n",
            "   29 page already has text! - rasterizing text and running OCR anyway\n",
            "   28 \u001b[33m[tesseract] lots of diacritics - possibly poor OCR\u001b[0m\n",
            "   30 page already has text! - rasterizing text and running OCR anyway\n",
            "   29 \u001b[33m[tesseract] lots of diacritics - possibly poor OCR\u001b[0m\n",
            "   31 page already has text! - rasterizing text and running OCR anyway\n",
            "   30 \u001b[33m[tesseract] lots of diacritics - possibly poor OCR\u001b[0m\n",
            "   32 page already has text! - rasterizing text and running OCR anyway\n",
            "   31 \u001b[33m[tesseract] lots of diacritics - possibly poor OCR\u001b[0m\n",
            "   33 page already has text! - rasterizing text and running OCR anyway\n",
            "   32 \u001b[33m[tesseract] lots of diacritics - possibly poor OCR\u001b[0m\n",
            "   33 \u001b[33m[tesseract] lots of diacritics - possibly poor OCR\u001b[0m\n",
            "OCR: 100% 33.0/33.0 [03:17<00:00,  5.99s/page]\n",
            "Postprocessing...\n",
            "PDF/A conversion: 100% 33/33 [00:17<00:00,  1.92page/s]\n",
            "\u001b[33mSome input metadata could not be copied because it is not permitted in PDF/A. You may wish to examine the output PDF's XMP metadata.\u001b[0m\n",
            "Recompressing JPEGs: 0image [00:00, ?image/s]\n",
            "Deflating JPEGs: 100% 1/1 [00:00<00:00, 79.09image/s]\n",
            "JBIG2: 0item [00:00, ?item/s]\n",
            "Optimize ratio: 1.03 savings: 3.3%\n",
            "Output file is a PDF/A-2B (as expected)\n"
          ]
        }
      ]
    },
    {
      "cell_type": "code",
      "source": [],
      "metadata": {
        "id": "XWWKcCXK0WUp"
      },
      "execution_count": null,
      "outputs": []
    }
  ]
}